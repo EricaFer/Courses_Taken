{
 "cells": [
  {
   "cell_type": "markdown",
   "metadata": {},
   "source": [
    "# Cálculo de Risco de Ações"
   ]
  },
  {
   "cell_type": "code",
   "execution_count": 1,
   "metadata": {},
   "outputs": [],
   "source": [
    "# Importando Ferramentas Básicas\n",
    "import math\n",
    "import numpy              as np\n",
    "import seaborn            as sns\n",
    "import pandas             as pd\n",
    "import matplotlib.pyplot  as plt\n",
    "\n",
    "from scipy import stats"
   ]
  },
  {
   "cell_type": "code",
   "execution_count": 3,
   "metadata": {},
   "outputs": [
    {
     "data": {
      "text/html": [
       "<div>\n",
       "<style scoped>\n",
       "    .dataframe tbody tr th:only-of-type {\n",
       "        vertical-align: middle;\n",
       "    }\n",
       "\n",
       "    .dataframe tbody tr th {\n",
       "        vertical-align: top;\n",
       "    }\n",
       "\n",
       "    .dataframe thead th {\n",
       "        text-align: right;\n",
       "    }\n",
       "</style>\n",
       "<table border=\"1\" class=\"dataframe\">\n",
       "  <thead>\n",
       "    <tr style=\"text-align: right;\">\n",
       "      <th></th>\n",
       "      <th>Date</th>\n",
       "      <th>GOL</th>\n",
       "      <th>CVC</th>\n",
       "      <th>WEGE</th>\n",
       "      <th>MAGALU</th>\n",
       "      <th>TOTS</th>\n",
       "      <th>BOVA</th>\n",
       "    </tr>\n",
       "  </thead>\n",
       "  <tbody>\n",
       "    <tr>\n",
       "      <th>0</th>\n",
       "      <td>2015-01-02</td>\n",
       "      <td>14.99</td>\n",
       "      <td>15.20</td>\n",
       "      <td>11.846153</td>\n",
       "      <td>0.232812</td>\n",
       "      <td>11.910702</td>\n",
       "      <td>47.259998</td>\n",
       "    </tr>\n",
       "    <tr>\n",
       "      <th>1</th>\n",
       "      <td>2015-01-05</td>\n",
       "      <td>14.85</td>\n",
       "      <td>15.00</td>\n",
       "      <td>11.926923</td>\n",
       "      <td>0.237187</td>\n",
       "      <td>11.544731</td>\n",
       "      <td>46.320000</td>\n",
       "    </tr>\n",
       "    <tr>\n",
       "      <th>2</th>\n",
       "      <td>2015-01-06</td>\n",
       "      <td>15.21</td>\n",
       "      <td>14.80</td>\n",
       "      <td>11.750000</td>\n",
       "      <td>0.234062</td>\n",
       "      <td>10.822770</td>\n",
       "      <td>46.580002</td>\n",
       "    </tr>\n",
       "    <tr>\n",
       "      <th>3</th>\n",
       "      <td>2015-01-07</td>\n",
       "      <td>14.55</td>\n",
       "      <td>14.67</td>\n",
       "      <td>11.615384</td>\n",
       "      <td>0.241875</td>\n",
       "      <td>10.746248</td>\n",
       "      <td>48.150002</td>\n",
       "    </tr>\n",
       "    <tr>\n",
       "      <th>4</th>\n",
       "      <td>2015-01-08</td>\n",
       "      <td>14.27</td>\n",
       "      <td>14.15</td>\n",
       "      <td>11.811538</td>\n",
       "      <td>0.240000</td>\n",
       "      <td>10.995774</td>\n",
       "      <td>48.509998</td>\n",
       "    </tr>\n",
       "  </tbody>\n",
       "</table>\n",
       "</div>"
      ],
      "text/plain": [
       "         Date    GOL    CVC       WEGE    MAGALU       TOTS       BOVA\n",
       "0  2015-01-02  14.99  15.20  11.846153  0.232812  11.910702  47.259998\n",
       "1  2015-01-05  14.85  15.00  11.926923  0.237187  11.544731  46.320000\n",
       "2  2015-01-06  15.21  14.80  11.750000  0.234062  10.822770  46.580002\n",
       "3  2015-01-07  14.55  14.67  11.615384  0.241875  10.746248  48.150002\n",
       "4  2015-01-08  14.27  14.15  11.811538  0.240000  10.995774  48.509998"
      ]
     },
     "execution_count": 3,
     "metadata": {},
     "output_type": "execute_result"
    }
   ],
   "source": [
    "dataset = pd.read_csv('acoes.csv')\n",
    "\n",
    "dataset.head()"
   ]
  },
  {
   "cell_type": "markdown",
   "metadata": {},
   "source": [
    "## Cálculo dos retornos anuais"
   ]
  },
  {
   "cell_type": "code",
   "execution_count": 4,
   "metadata": {},
   "outputs": [
    {
     "data": {
      "text/html": [
       "<div>\n",
       "<style scoped>\n",
       "    .dataframe tbody tr th:only-of-type {\n",
       "        vertical-align: middle;\n",
       "    }\n",
       "\n",
       "    .dataframe tbody tr th {\n",
       "        vertical-align: top;\n",
       "    }\n",
       "\n",
       "    .dataframe thead th {\n",
       "        text-align: right;\n",
       "    }\n",
       "</style>\n",
       "<table border=\"1\" class=\"dataframe\">\n",
       "  <thead>\n",
       "    <tr style=\"text-align: right;\">\n",
       "      <th></th>\n",
       "      <th>GOL</th>\n",
       "      <th>CVC</th>\n",
       "      <th>WEGE</th>\n",
       "      <th>MAGALU</th>\n",
       "      <th>TOTS</th>\n",
       "      <th>BOVA</th>\n",
       "    </tr>\n",
       "  </thead>\n",
       "  <tbody>\n",
       "    <tr>\n",
       "      <th>count</th>\n",
       "      <td>1502.000000</td>\n",
       "      <td>1502.000000</td>\n",
       "      <td>1502.000000</td>\n",
       "      <td>1502.000000</td>\n",
       "      <td>1502.000000</td>\n",
       "      <td>1498.000000</td>\n",
       "    </tr>\n",
       "    <tr>\n",
       "      <th>mean</th>\n",
       "      <td>14.895486</td>\n",
       "      <td>32.327086</td>\n",
       "      <td>23.028168</td>\n",
       "      <td>5.361700</td>\n",
       "      <td>13.580716</td>\n",
       "      <td>73.072628</td>\n",
       "    </tr>\n",
       "    <tr>\n",
       "      <th>std</th>\n",
       "      <td>10.199643</td>\n",
       "      <td>16.053134</td>\n",
       "      <td>17.620213</td>\n",
       "      <td>6.978801</td>\n",
       "      <td>5.920666</td>\n",
       "      <td>20.775966</td>\n",
       "    </tr>\n",
       "    <tr>\n",
       "      <th>min</th>\n",
       "      <td>1.160000</td>\n",
       "      <td>6.490000</td>\n",
       "      <td>9.884615</td>\n",
       "      <td>0.030585</td>\n",
       "      <td>7.156402</td>\n",
       "      <td>36.450001</td>\n",
       "    </tr>\n",
       "    <tr>\n",
       "      <th>25%</th>\n",
       "      <td>6.907500</td>\n",
       "      <td>18.100000</td>\n",
       "      <td>12.707692</td>\n",
       "      <td>0.212500</td>\n",
       "      <td>9.836311</td>\n",
       "      <td>54.985000</td>\n",
       "    </tr>\n",
       "    <tr>\n",
       "      <th>50%</th>\n",
       "      <td>12.365000</td>\n",
       "      <td>27.825000</td>\n",
       "      <td>17.115383</td>\n",
       "      <td>2.462968</td>\n",
       "      <td>10.737931</td>\n",
       "      <td>72.000000</td>\n",
       "    </tr>\n",
       "    <tr>\n",
       "      <th>75%</th>\n",
       "      <td>20.987500</td>\n",
       "      <td>47.190001</td>\n",
       "      <td>22.400000</td>\n",
       "      <td>7.308594</td>\n",
       "      <td>15.290000</td>\n",
       "      <td>91.965000</td>\n",
       "    </tr>\n",
       "    <tr>\n",
       "      <th>max</th>\n",
       "      <td>43.790001</td>\n",
       "      <td>64.800003</td>\n",
       "      <td>92.209999</td>\n",
       "      <td>27.450001</td>\n",
       "      <td>31.070000</td>\n",
       "      <td>120.400002</td>\n",
       "    </tr>\n",
       "  </tbody>\n",
       "</table>\n",
       "</div>"
      ],
      "text/plain": [
       "               GOL          CVC         WEGE       MAGALU         TOTS  \\\n",
       "count  1502.000000  1502.000000  1502.000000  1502.000000  1502.000000   \n",
       "mean     14.895486    32.327086    23.028168     5.361700    13.580716   \n",
       "std      10.199643    16.053134    17.620213     6.978801     5.920666   \n",
       "min       1.160000     6.490000     9.884615     0.030585     7.156402   \n",
       "25%       6.907500    18.100000    12.707692     0.212500     9.836311   \n",
       "50%      12.365000    27.825000    17.115383     2.462968    10.737931   \n",
       "75%      20.987500    47.190001    22.400000     7.308594    15.290000   \n",
       "max      43.790001    64.800003    92.209999    27.450001    31.070000   \n",
       "\n",
       "              BOVA  \n",
       "count  1498.000000  \n",
       "mean     73.072628  \n",
       "std      20.775966  \n",
       "min      36.450001  \n",
       "25%      54.985000  \n",
       "50%      72.000000  \n",
       "75%      91.965000  \n",
       "max     120.400002  "
      ]
     },
     "execution_count": 4,
     "metadata": {},
     "output_type": "execute_result"
    }
   ],
   "source": [
    "dataset.describe()"
   ]
  },
  {
   "cell_type": "code",
   "execution_count": 5,
   "metadata": {},
   "outputs": [
    {
     "data": {
      "text/plain": [
       "(0    15.2\n",
       " Name: CVC, dtype: float64,\n",
       " 245    13.5\n",
       " Name: CVC, dtype: float64)"
      ]
     },
     "execution_count": 5,
     "metadata": {},
     "output_type": "execute_result"
    }
   ],
   "source": [
    "dataset.CVC[dataset.Date == '2015-01-02'], dataset.CVC[dataset.Date == '2015-12-30']"
   ]
  },
  {
   "cell_type": "code",
   "execution_count": 7,
   "metadata": {},
   "outputs": [
    {
     "data": {
      "text/plain": [
       "-11.86057424078469"
      ]
     },
     "execution_count": 7,
     "metadata": {},
     "output_type": "execute_result"
    }
   ],
   "source": [
    "# Taxa de Retorno Logarítimica\n",
    "np.log(13.5/15.2) * 100"
   ]
  },
  {
   "cell_type": "code",
   "execution_count": 9,
   "metadata": {},
   "outputs": [
    {
     "data": {
      "text/plain": [
       "(0    0.232812\n",
       " Name: MAGALU, dtype: float64,\n",
       " 245    0.068945\n",
       " Name: MAGALU, dtype: float64)"
      ]
     },
     "execution_count": 9,
     "metadata": {},
     "output_type": "execute_result"
    }
   ],
   "source": [
    "dataset.MAGALU[dataset.Date == '2015-01-02'], dataset.MAGALU[dataset.Date == '2015-12-30']"
   ]
  },
  {
   "cell_type": "code",
   "execution_count": 100,
   "metadata": {},
   "outputs": [],
   "source": [
    "def year_log_ret(df, year):\n",
    "    dic = {}\n",
    "    \n",
    "    for stock in df.columns[1:]:\n",
    "        dic['RL Anual ' + stock] = np.log(df[stock][df.Date == year + '-01-02']/df[stock][df.Date == year + '-12-30']) * 100\n",
    "    return dic    "
   ]
  },
  {
   "cell_type": "markdown",
   "metadata": {},
   "source": [
    "## Variância\n",
    "\n",
    "<br>\n",
    "\n",
    "O quanto os dados estão variando ao comparar com a média.\n",
    "\n",
    "<br>\n",
    "\n",
    "`Variância: (taxa de retorno - taxa de retorno média)^2 / N`\n",
    "\n",
    "<br>\n",
    "\n",
    "Sendo N o número de anos.\n",
    "\n",
    "<br>\n",
    "\n",
    "> Para quem não quer correr riscos, buscar variância menor."
   ]
  },
  {
   "cell_type": "code",
   "execution_count": 129,
   "metadata": {},
   "outputs": [
    {
     "data": {
      "text/plain": [
       "188.82227141212226"
      ]
     },
     "execution_count": 129,
     "metadata": {},
     "output_type": "execute_result"
    }
   ],
   "source": [
    "# Em relação ao valor e n taxa de retorno\n",
    "dataset.CVC.tail(330).var()"
   ]
  },
  {
   "cell_type": "markdown",
   "metadata": {},
   "source": [
    "## Desvio Padrão"
   ]
  },
  {
   "cell_type": "code",
   "execution_count": 133,
   "metadata": {},
   "outputs": [],
   "source": [
    "taxas_magalu = np.array([137,176,76,185.78,82.74,71.86,71.87])\n",
    "\n",
    "variancia_magalu  = taxas_magalu.var()\n",
    "\n",
    "desvio_padrao = math.sqrt(variancia_magalu)"
   ]
  },
  {
   "cell_type": "code",
   "execution_count": 134,
   "metadata": {},
   "outputs": [
    {
     "data": {
      "text/plain": [
       "47.04976631402202"
      ]
     },
     "execution_count": 134,
     "metadata": {},
     "output_type": "execute_result"
    }
   ],
   "source": [
    "desvio_padrao"
   ]
  },
  {
   "cell_type": "code",
   "execution_count": 135,
   "metadata": {},
   "outputs": [
    {
     "data": {
      "text/plain": [
       "0.874245833122633"
      ]
     },
     "execution_count": 135,
     "metadata": {},
     "output_type": "execute_result"
    }
   ],
   "source": [
    "#desvio padrão\n",
    "dataset.CVC.tail(30).std()"
   ]
  },
  {
   "cell_type": "markdown",
   "metadata": {},
   "source": [
    "## Coeficiente da Variação\n",
    "\n",
    "<br>\n",
    "\n",
    "`STD/Média`"
   ]
  },
  {
   "cell_type": "markdown",
   "metadata": {},
   "source": [
    "## Cálculo Risco Médio Anual\n",
    "\n",
    "<br>\n",
    "\n",
    "Quanto maior o desvio padrão, maior o risco"
   ]
  },
  {
   "cell_type": "code",
   "execution_count": 5,
   "metadata": {},
   "outputs": [
    {
     "data": {
      "text/html": [
       "<div>\n",
       "<style scoped>\n",
       "    .dataframe tbody tr th:only-of-type {\n",
       "        vertical-align: middle;\n",
       "    }\n",
       "\n",
       "    .dataframe tbody tr th {\n",
       "        vertical-align: top;\n",
       "    }\n",
       "\n",
       "    .dataframe thead th {\n",
       "        text-align: right;\n",
       "    }\n",
       "</style>\n",
       "<table border=\"1\" class=\"dataframe\">\n",
       "  <thead>\n",
       "    <tr style=\"text-align: right;\">\n",
       "      <th></th>\n",
       "      <th>GOL</th>\n",
       "      <th>CVC</th>\n",
       "      <th>WEGE</th>\n",
       "      <th>MAGALU</th>\n",
       "      <th>TOTS</th>\n",
       "      <th>BOVA</th>\n",
       "    </tr>\n",
       "  </thead>\n",
       "  <tbody>\n",
       "    <tr>\n",
       "      <th>0</th>\n",
       "      <td>14.99</td>\n",
       "      <td>15.20</td>\n",
       "      <td>11.846153</td>\n",
       "      <td>0.232812</td>\n",
       "      <td>11.910702</td>\n",
       "      <td>47.259998</td>\n",
       "    </tr>\n",
       "    <tr>\n",
       "      <th>1</th>\n",
       "      <td>14.85</td>\n",
       "      <td>15.00</td>\n",
       "      <td>11.926923</td>\n",
       "      <td>0.237187</td>\n",
       "      <td>11.544731</td>\n",
       "      <td>46.320000</td>\n",
       "    </tr>\n",
       "    <tr>\n",
       "      <th>2</th>\n",
       "      <td>15.21</td>\n",
       "      <td>14.80</td>\n",
       "      <td>11.750000</td>\n",
       "      <td>0.234062</td>\n",
       "      <td>10.822770</td>\n",
       "      <td>46.580002</td>\n",
       "    </tr>\n",
       "    <tr>\n",
       "      <th>3</th>\n",
       "      <td>14.55</td>\n",
       "      <td>14.67</td>\n",
       "      <td>11.615384</td>\n",
       "      <td>0.241875</td>\n",
       "      <td>10.746248</td>\n",
       "      <td>48.150002</td>\n",
       "    </tr>\n",
       "    <tr>\n",
       "      <th>4</th>\n",
       "      <td>14.27</td>\n",
       "      <td>14.15</td>\n",
       "      <td>11.811538</td>\n",
       "      <td>0.240000</td>\n",
       "      <td>10.995774</td>\n",
       "      <td>48.509998</td>\n",
       "    </tr>\n",
       "  </tbody>\n",
       "</table>\n",
       "</div>"
      ],
      "text/plain": [
       "     GOL    CVC       WEGE    MAGALU       TOTS       BOVA\n",
       "0  14.99  15.20  11.846153  0.232812  11.910702  47.259998\n",
       "1  14.85  15.00  11.926923  0.237187  11.544731  46.320000\n",
       "2  15.21  14.80  11.750000  0.234062  10.822770  46.580002\n",
       "3  14.55  14.67  11.615384  0.241875  10.746248  48.150002\n",
       "4  14.27  14.15  11.811538  0.240000  10.995774  48.509998"
      ]
     },
     "execution_count": 5,
     "metadata": {},
     "output_type": "execute_result"
    }
   ],
   "source": [
    "dataset.drop(labels = 'Date', axis = 1, inplace = True)\n",
    "\n",
    "dataset.head()"
   ]
  },
  {
   "cell_type": "code",
   "execution_count": 6,
   "metadata": {},
   "outputs": [
    {
     "data": {
      "text/html": [
       "<div>\n",
       "<style scoped>\n",
       "    .dataframe tbody tr th:only-of-type {\n",
       "        vertical-align: middle;\n",
       "    }\n",
       "\n",
       "    .dataframe tbody tr th {\n",
       "        vertical-align: top;\n",
       "    }\n",
       "\n",
       "    .dataframe thead th {\n",
       "        text-align: right;\n",
       "    }\n",
       "</style>\n",
       "<table border=\"1\" class=\"dataframe\">\n",
       "  <thead>\n",
       "    <tr style=\"text-align: right;\">\n",
       "      <th></th>\n",
       "      <th>GOL</th>\n",
       "      <th>CVC</th>\n",
       "      <th>WEGE</th>\n",
       "      <th>MAGALU</th>\n",
       "      <th>TOTS</th>\n",
       "      <th>BOVA</th>\n",
       "    </tr>\n",
       "  </thead>\n",
       "  <tbody>\n",
       "    <tr>\n",
       "      <th>0</th>\n",
       "      <td>NaN</td>\n",
       "      <td>NaN</td>\n",
       "      <td>NaN</td>\n",
       "      <td>NaN</td>\n",
       "      <td>NaN</td>\n",
       "      <td>NaN</td>\n",
       "    </tr>\n",
       "    <tr>\n",
       "      <th>1</th>\n",
       "      <td>-0.009340</td>\n",
       "      <td>-0.013158</td>\n",
       "      <td>0.006818</td>\n",
       "      <td>0.018792</td>\n",
       "      <td>-0.030726</td>\n",
       "      <td>-0.019890</td>\n",
       "    </tr>\n",
       "    <tr>\n",
       "      <th>2</th>\n",
       "      <td>0.024242</td>\n",
       "      <td>-0.013333</td>\n",
       "      <td>-0.014834</td>\n",
       "      <td>-0.013175</td>\n",
       "      <td>-0.062536</td>\n",
       "      <td>0.005613</td>\n",
       "    </tr>\n",
       "    <tr>\n",
       "      <th>3</th>\n",
       "      <td>-0.043392</td>\n",
       "      <td>-0.008784</td>\n",
       "      <td>-0.011457</td>\n",
       "      <td>0.033380</td>\n",
       "      <td>-0.007070</td>\n",
       "      <td>0.033705</td>\n",
       "    </tr>\n",
       "    <tr>\n",
       "      <th>4</th>\n",
       "      <td>-0.019244</td>\n",
       "      <td>-0.035447</td>\n",
       "      <td>0.016887</td>\n",
       "      <td>-0.007752</td>\n",
       "      <td>0.023220</td>\n",
       "      <td>0.007477</td>\n",
       "    </tr>\n",
       "    <tr>\n",
       "      <th>...</th>\n",
       "      <td>...</td>\n",
       "      <td>...</td>\n",
       "      <td>...</td>\n",
       "      <td>...</td>\n",
       "      <td>...</td>\n",
       "      <td>...</td>\n",
       "    </tr>\n",
       "    <tr>\n",
       "      <th>1497</th>\n",
       "      <td>-0.028099</td>\n",
       "      <td>-0.028964</td>\n",
       "      <td>-0.023923</td>\n",
       "      <td>0.005478</td>\n",
       "      <td>0.004613</td>\n",
       "      <td>-0.027304</td>\n",
       "    </tr>\n",
       "    <tr>\n",
       "      <th>1498</th>\n",
       "      <td>0.011480</td>\n",
       "      <td>0.019211</td>\n",
       "      <td>0.051186</td>\n",
       "      <td>0.024728</td>\n",
       "      <td>0.017308</td>\n",
       "      <td>0.007833</td>\n",
       "    </tr>\n",
       "    <tr>\n",
       "      <th>1499</th>\n",
       "      <td>-0.023119</td>\n",
       "      <td>-0.014385</td>\n",
       "      <td>-0.028305</td>\n",
       "      <td>-0.015133</td>\n",
       "      <td>0.025000</td>\n",
       "      <td>-0.009058</td>\n",
       "    </tr>\n",
       "    <tr>\n",
       "      <th>1500</th>\n",
       "      <td>-0.016781</td>\n",
       "      <td>-0.002516</td>\n",
       "      <td>-0.008929</td>\n",
       "      <td>0.055648</td>\n",
       "      <td>0.011518</td>\n",
       "      <td>-0.004843</td>\n",
       "    </tr>\n",
       "    <tr>\n",
       "      <th>1501</th>\n",
       "      <td>-0.009628</td>\n",
       "      <td>-0.023209</td>\n",
       "      <td>-0.020721</td>\n",
       "      <td>-0.007081</td>\n",
       "      <td>-0.006028</td>\n",
       "      <td>-0.011037</td>\n",
       "    </tr>\n",
       "  </tbody>\n",
       "</table>\n",
       "<p>1502 rows × 6 columns</p>\n",
       "</div>"
      ],
      "text/plain": [
       "           GOL       CVC      WEGE    MAGALU      TOTS      BOVA\n",
       "0          NaN       NaN       NaN       NaN       NaN       NaN\n",
       "1    -0.009340 -0.013158  0.006818  0.018792 -0.030726 -0.019890\n",
       "2     0.024242 -0.013333 -0.014834 -0.013175 -0.062536  0.005613\n",
       "3    -0.043392 -0.008784 -0.011457  0.033380 -0.007070  0.033705\n",
       "4    -0.019244 -0.035447  0.016887 -0.007752  0.023220  0.007477\n",
       "...        ...       ...       ...       ...       ...       ...\n",
       "1497 -0.028099 -0.028964 -0.023923  0.005478  0.004613 -0.027304\n",
       "1498  0.011480  0.019211  0.051186  0.024728  0.017308  0.007833\n",
       "1499 -0.023119 -0.014385 -0.028305 -0.015133  0.025000 -0.009058\n",
       "1500 -0.016781 -0.002516 -0.008929  0.055648  0.011518 -0.004843\n",
       "1501 -0.009628 -0.023209 -0.020721 -0.007081 -0.006028 -0.011037\n",
       "\n",
       "[1502 rows x 6 columns]"
      ]
     },
     "execution_count": 6,
     "metadata": {},
     "output_type": "execute_result"
    }
   ],
   "source": [
    "# taxa de retorno simples\n",
    "taxas_ret = (dataset /dataset.shift(1)) - 1\n",
    "\n",
    "taxas_ret"
   ]
  },
  {
   "cell_type": "code",
   "execution_count": 10,
   "metadata": {},
   "outputs": [
    {
     "data": {
      "text/plain": [
       "GOL       5.126102\n",
       "CVC       3.491971\n",
       "WEGE      2.230142\n",
       "MAGALU    4.164206\n",
       "TOTS      2.434172\n",
       "BOVA      1.714609\n",
       "dtype: float64"
      ]
     },
     "execution_count": 10,
     "metadata": {},
     "output_type": "execute_result"
    }
   ],
   "source": [
    "# variação em reais no tempo todo - desvio padrão\n",
    "\n",
    "taxas_ret.std() * 100"
   ]
  },
  {
   "cell_type": "code",
   "execution_count": 9,
   "metadata": {},
   "outputs": [
    {
     "data": {
      "text/plain": [
       "GOL       12.610212\n",
       "CVC        8.590250\n",
       "WEGE       5.486149\n",
       "MAGALU    10.243946\n",
       "TOTS       5.988063\n",
       "BOVA       4.217939\n",
       "dtype: float64"
      ]
     },
     "execution_count": 9,
     "metadata": {},
     "output_type": "execute_result"
    }
   ],
   "source": [
    "# desvio padraõ anual\n",
    "\n",
    "taxas_ret.std() * 246"
   ]
  },
  {
   "cell_type": "code",
   "execution_count": 11,
   "metadata": {},
   "outputs": [
    {
     "data": {
      "text/plain": [
       "GOL       0.803998\n",
       "CVC       0.547694\n",
       "WEGE      0.349784\n",
       "MAGALU    0.653130\n",
       "TOTS      0.381785\n",
       "BOVA      0.268926\n",
       "dtype: float64"
      ]
     },
     "execution_count": 11,
     "metadata": {},
     "output_type": "execute_result"
    }
   ],
   "source": [
    "# Anualizar\n",
    "taxas_ret.std() * math.sqrt(246)"
   ]
  },
  {
   "cell_type": "code",
   "execution_count": 13,
   "metadata": {},
   "outputs": [
    {
     "data": {
      "text/html": [
       "<div>\n",
       "<style scoped>\n",
       "    .dataframe tbody tr th:only-of-type {\n",
       "        vertical-align: middle;\n",
       "    }\n",
       "\n",
       "    .dataframe tbody tr th {\n",
       "        vertical-align: top;\n",
       "    }\n",
       "\n",
       "    .dataframe thead th {\n",
       "        text-align: right;\n",
       "    }\n",
       "</style>\n",
       "<table border=\"1\" class=\"dataframe\">\n",
       "  <thead>\n",
       "    <tr style=\"text-align: right;\">\n",
       "      <th></th>\n",
       "      <th>GOL</th>\n",
       "      <th>CVC</th>\n",
       "      <th>WEGE</th>\n",
       "      <th>MAGALU</th>\n",
       "      <th>TOTS</th>\n",
       "      <th>BOVA</th>\n",
       "    </tr>\n",
       "  </thead>\n",
       "  <tbody>\n",
       "    <tr>\n",
       "      <th>GOL</th>\n",
       "      <td>0.002628</td>\n",
       "      <td>0.000904</td>\n",
       "      <td>0.000353</td>\n",
       "      <td>0.000679</td>\n",
       "      <td>0.000383</td>\n",
       "      <td>0.000519</td>\n",
       "    </tr>\n",
       "    <tr>\n",
       "      <th>CVC</th>\n",
       "      <td>0.000904</td>\n",
       "      <td>0.001219</td>\n",
       "      <td>0.000234</td>\n",
       "      <td>0.000460</td>\n",
       "      <td>0.000258</td>\n",
       "      <td>0.000333</td>\n",
       "    </tr>\n",
       "    <tr>\n",
       "      <th>WEGE</th>\n",
       "      <td>0.000353</td>\n",
       "      <td>0.000234</td>\n",
       "      <td>0.000497</td>\n",
       "      <td>0.000274</td>\n",
       "      <td>0.000209</td>\n",
       "      <td>0.000204</td>\n",
       "    </tr>\n",
       "    <tr>\n",
       "      <th>MAGALU</th>\n",
       "      <td>0.000679</td>\n",
       "      <td>0.000460</td>\n",
       "      <td>0.000274</td>\n",
       "      <td>0.001734</td>\n",
       "      <td>0.000293</td>\n",
       "      <td>0.000321</td>\n",
       "    </tr>\n",
       "    <tr>\n",
       "      <th>TOTS</th>\n",
       "      <td>0.000383</td>\n",
       "      <td>0.000258</td>\n",
       "      <td>0.000209</td>\n",
       "      <td>0.000293</td>\n",
       "      <td>0.000593</td>\n",
       "      <td>0.000202</td>\n",
       "    </tr>\n",
       "    <tr>\n",
       "      <th>BOVA</th>\n",
       "      <td>0.000519</td>\n",
       "      <td>0.000333</td>\n",
       "      <td>0.000204</td>\n",
       "      <td>0.000321</td>\n",
       "      <td>0.000202</td>\n",
       "      <td>0.000294</td>\n",
       "    </tr>\n",
       "  </tbody>\n",
       "</table>\n",
       "</div>"
      ],
      "text/plain": [
       "             GOL       CVC      WEGE    MAGALU      TOTS      BOVA\n",
       "GOL     0.002628  0.000904  0.000353  0.000679  0.000383  0.000519\n",
       "CVC     0.000904  0.001219  0.000234  0.000460  0.000258  0.000333\n",
       "WEGE    0.000353  0.000234  0.000497  0.000274  0.000209  0.000204\n",
       "MAGALU  0.000679  0.000460  0.000274  0.001734  0.000293  0.000321\n",
       "TOTS    0.000383  0.000258  0.000209  0.000293  0.000593  0.000202\n",
       "BOVA    0.000519  0.000333  0.000204  0.000321  0.000202  0.000294"
      ]
     },
     "execution_count": 13,
     "metadata": {},
     "output_type": "execute_result"
    }
   ],
   "source": [
    "#covariância\n",
    "\n",
    "'''\n",
    ">0, se movem juntas\n",
    "<0, se movem em direções opostas\n",
    "=0, são independentes\n",
    "'''\n",
    "\n",
    "taxas_ret.cov() "
   ]
  },
  {
   "cell_type": "code",
   "execution_count": 15,
   "metadata": {},
   "outputs": [
    {
     "data": {
      "text/html": [
       "<div>\n",
       "<style scoped>\n",
       "    .dataframe tbody tr th:only-of-type {\n",
       "        vertical-align: middle;\n",
       "    }\n",
       "\n",
       "    .dataframe tbody tr th {\n",
       "        vertical-align: top;\n",
       "    }\n",
       "\n",
       "    .dataframe thead th {\n",
       "        text-align: right;\n",
       "    }\n",
       "</style>\n",
       "<table border=\"1\" class=\"dataframe\">\n",
       "  <thead>\n",
       "    <tr style=\"text-align: right;\">\n",
       "      <th></th>\n",
       "      <th>GOL</th>\n",
       "      <th>CVC</th>\n",
       "      <th>WEGE</th>\n",
       "      <th>MAGALU</th>\n",
       "      <th>TOTS</th>\n",
       "      <th>BOVA</th>\n",
       "    </tr>\n",
       "  </thead>\n",
       "  <tbody>\n",
       "    <tr>\n",
       "      <th>GOL</th>\n",
       "      <td>1.000000</td>\n",
       "      <td>0.504974</td>\n",
       "      <td>0.308965</td>\n",
       "      <td>0.318228</td>\n",
       "      <td>0.307218</td>\n",
       "      <td>0.589189</td>\n",
       "    </tr>\n",
       "    <tr>\n",
       "      <th>CVC</th>\n",
       "      <td>0.504974</td>\n",
       "      <td>1.000000</td>\n",
       "      <td>0.300514</td>\n",
       "      <td>0.316586</td>\n",
       "      <td>0.303142</td>\n",
       "      <td>0.557833</td>\n",
       "    </tr>\n",
       "    <tr>\n",
       "      <th>WEGE</th>\n",
       "      <td>0.308965</td>\n",
       "      <td>0.300514</td>\n",
       "      <td>1.000000</td>\n",
       "      <td>0.295293</td>\n",
       "      <td>0.385604</td>\n",
       "      <td>0.532981</td>\n",
       "    </tr>\n",
       "    <tr>\n",
       "      <th>MAGALU</th>\n",
       "      <td>0.318228</td>\n",
       "      <td>0.316586</td>\n",
       "      <td>0.295293</td>\n",
       "      <td>1.000000</td>\n",
       "      <td>0.289047</td>\n",
       "      <td>0.448494</td>\n",
       "    </tr>\n",
       "    <tr>\n",
       "      <th>TOTS</th>\n",
       "      <td>0.307218</td>\n",
       "      <td>0.303142</td>\n",
       "      <td>0.385604</td>\n",
       "      <td>0.289047</td>\n",
       "      <td>1.000000</td>\n",
       "      <td>0.483479</td>\n",
       "    </tr>\n",
       "    <tr>\n",
       "      <th>BOVA</th>\n",
       "      <td>0.589189</td>\n",
       "      <td>0.557833</td>\n",
       "      <td>0.532981</td>\n",
       "      <td>0.448494</td>\n",
       "      <td>0.483479</td>\n",
       "      <td>1.000000</td>\n",
       "    </tr>\n",
       "  </tbody>\n",
       "</table>\n",
       "</div>"
      ],
      "text/plain": [
       "             GOL       CVC      WEGE    MAGALU      TOTS      BOVA\n",
       "GOL     1.000000  0.504974  0.308965  0.318228  0.307218  0.589189\n",
       "CVC     0.504974  1.000000  0.300514  0.316586  0.303142  0.557833\n",
       "WEGE    0.308965  0.300514  1.000000  0.295293  0.385604  0.532981\n",
       "MAGALU  0.318228  0.316586  0.295293  1.000000  0.289047  0.448494\n",
       "TOTS    0.307218  0.303142  0.385604  0.289047  1.000000  0.483479\n",
       "BOVA    0.589189  0.557833  0.532981  0.448494  0.483479  1.000000"
      ]
     },
     "execution_count": 15,
     "metadata": {},
     "output_type": "execute_result"
    }
   ],
   "source": [
    "# correlações\n",
    "''' \n",
    "0,00 a +- 0,19   - Bem Fraca\n",
    "0,20 a +- 0,39   - Fraca\n",
    "0,40 a +- 0,69   - Moderada\n",
    "0,70 a +- 0,89   - Forte\n",
    "0,90 a +- 1,00   - Muito Forte\n",
    "'''\n",
    "taxas_ret.corr()"
   ]
  },
  {
   "cell_type": "code",
   "execution_count": 32,
   "metadata": {
    "scrolled": true
   },
   "outputs": [
    {
     "data": {
      "image/png": "[encoded data removed]",
      "text/plain": [
       "<Figure size 720x576 with 2 Axes>"
      ]
     },
     "metadata": {},
     "output_type": "display_data"
    }
   ],
   "source": [
    "sns.set_style('darkgrid')\n",
    "\n",
    "plt.figure(figsize = (10,8))\n",
    "sns.heatmap(taxas_ret.corr(),\n",
    "           cmap = \"YlGnBu\",\n",
    "           linewidths= 0.5,\n",
    "           annot= True,\n",
    "           square= True)\n",
    "plt.title('Correlação entre as ações da carteira', size = 20, y = 1.04);"
   ]
  },
  {
   "cell_type": "markdown",
   "metadata": {},
   "source": [
    "## Risco de um portifólio"
   ]
  },
  {
   "cell_type": "code",
   "execution_count": 34,
   "metadata": {},
   "outputs": [
    {
     "data": {
      "text/html": [
       "<div>\n",
       "<style scoped>\n",
       "    .dataframe tbody tr th:only-of-type {\n",
       "        vertical-align: middle;\n",
       "    }\n",
       "\n",
       "    .dataframe tbody tr th {\n",
       "        vertical-align: top;\n",
       "    }\n",
       "\n",
       "    .dataframe thead th {\n",
       "        text-align: right;\n",
       "    }\n",
       "</style>\n",
       "<table border=\"1\" class=\"dataframe\">\n",
       "  <thead>\n",
       "    <tr style=\"text-align: right;\">\n",
       "      <th></th>\n",
       "      <th>GOL</th>\n",
       "      <th>CVC</th>\n",
       "    </tr>\n",
       "  </thead>\n",
       "  <tbody>\n",
       "    <tr>\n",
       "      <th>0</th>\n",
       "      <td>NaN</td>\n",
       "      <td>NaN</td>\n",
       "    </tr>\n",
       "    <tr>\n",
       "      <th>1</th>\n",
       "      <td>-0.009340</td>\n",
       "      <td>-0.013158</td>\n",
       "    </tr>\n",
       "    <tr>\n",
       "      <th>2</th>\n",
       "      <td>0.024242</td>\n",
       "      <td>-0.013333</td>\n",
       "    </tr>\n",
       "    <tr>\n",
       "      <th>3</th>\n",
       "      <td>-0.043392</td>\n",
       "      <td>-0.008784</td>\n",
       "    </tr>\n",
       "    <tr>\n",
       "      <th>4</th>\n",
       "      <td>-0.019244</td>\n",
       "      <td>-0.035447</td>\n",
       "    </tr>\n",
       "  </tbody>\n",
       "</table>\n",
       "</div>"
      ],
      "text/plain": [
       "        GOL       CVC\n",
       "0       NaN       NaN\n",
       "1 -0.009340 -0.013158\n",
       "2  0.024242 -0.013333\n",
       "3 -0.043392 -0.008784\n",
       "4 -0.019244 -0.035447"
      ]
     },
     "execution_count": 34,
     "metadata": {},
     "output_type": "execute_result"
    }
   ],
   "source": [
    "# Somente duas ações\n",
    "taxas_ret_gol_cvc = taxas_ret.drop(columns = ['WEGE', 'MAGALU', 'TOTS', 'BOVA'])\n",
    "\n",
    "taxas_ret_gol_cvc.head()"
   ]
  },
  {
   "cell_type": "code",
   "execution_count": 35,
   "metadata": {},
   "outputs": [
    {
     "data": {
      "text/html": [
       "<div>\n",
       "<style scoped>\n",
       "    .dataframe tbody tr th:only-of-type {\n",
       "        vertical-align: middle;\n",
       "    }\n",
       "\n",
       "    .dataframe tbody tr th {\n",
       "        vertical-align: top;\n",
       "    }\n",
       "\n",
       "    .dataframe thead th {\n",
       "        text-align: right;\n",
       "    }\n",
       "</style>\n",
       "<table border=\"1\" class=\"dataframe\">\n",
       "  <thead>\n",
       "    <tr style=\"text-align: right;\">\n",
       "      <th></th>\n",
       "      <th>GOL</th>\n",
       "      <th>CVC</th>\n",
       "    </tr>\n",
       "  </thead>\n",
       "  <tbody>\n",
       "    <tr>\n",
       "      <th>GOL</th>\n",
       "      <td>0.646412</td>\n",
       "      <td>0.222363</td>\n",
       "    </tr>\n",
       "    <tr>\n",
       "      <th>CVC</th>\n",
       "      <td>0.222363</td>\n",
       "      <td>0.299969</td>\n",
       "    </tr>\n",
       "  </tbody>\n",
       "</table>\n",
       "</div>"
      ],
      "text/plain": [
       "          GOL       CVC\n",
       "GOL  0.646412  0.222363\n",
       "CVC  0.222363  0.299969"
      ]
     },
     "execution_count": 35,
     "metadata": {},
     "output_type": "execute_result"
    }
   ],
   "source": [
    "# covariância\n",
    "taxas_ret_gol_cvc.cov() * 246"
   ]
  },
  {
   "cell_type": "code",
   "execution_count": 36,
   "metadata": {},
   "outputs": [],
   "source": [
    "pesos = np.array([0.5,0.5])"
   ]
  },
  {
   "cell_type": "code",
   "execution_count": 37,
   "metadata": {},
   "outputs": [
    {
     "data": {
      "text/plain": [
       "array([0.43438755, 0.26116591])"
      ]
     },
     "execution_count": 37,
     "metadata": {},
     "output_type": "execute_result"
    }
   ],
   "source": [
    "np.dot(taxas_ret_gol_cvc.cov() * 246, pesos)"
   ]
  },
  {
   "cell_type": "code",
   "execution_count": 38,
   "metadata": {},
   "outputs": [
    {
     "data": {
      "text/plain": [
       "0.3477767316937551"
      ]
     },
     "execution_count": 38,
     "metadata": {},
     "output_type": "execute_result"
    }
   ],
   "source": [
    "#valor da variância\n",
    "np.dot(np.dot(taxas_ret_gol_cvc.cov() * 246, pesos), pesos)"
   ]
  },
  {
   "cell_type": "code",
   "execution_count": 39,
   "metadata": {},
   "outputs": [
    {
     "data": {
      "text/plain": [
       "58.972598017533116"
      ]
     },
     "execution_count": 39,
     "metadata": {},
     "output_type": "execute_result"
    }
   ],
   "source": [
    "# desvio padrão - volatilidade da carteira\n",
    "math.sqrt(np.dot(np.dot(taxas_ret_gol_cvc.cov() * 246, pesos), pesos)) * 100"
   ]
  },
  {
   "cell_type": "markdown",
   "metadata": {},
   "source": [
    "## Todas as ações"
   ]
  },
  {
   "cell_type": "code",
   "execution_count": 43,
   "metadata": {},
   "outputs": [
    {
     "data": {
      "text/plain": [
       "38.120144450044045"
      ]
     },
     "execution_count": 43,
     "metadata": {},
     "output_type": "execute_result"
    }
   ],
   "source": [
    "pesos1 = np.array([0.2,0.2,0.2,0.2,0.2,0.0])\n",
    "# volatilidade\n",
    "math.sqrt(np.dot(np.dot(taxas_ret.cov() * 246, pesos1), pesos1)) * 100"
   ]
  },
  {
   "cell_type": "code",
   "execution_count": 45,
   "metadata": {},
   "outputs": [
    {
     "data": {
      "text/plain": [
       "7.232117717142337"
      ]
     },
     "execution_count": 45,
     "metadata": {},
     "output_type": "execute_result"
    }
   ],
   "source": [
    "# Agora comparando com a variância da BOVA\n",
    "pesos2 = np.array([0,0,0,0,0,1])\n",
    "np.dot(pesos2, np.dot(pesos2, taxas_ret.cov() * 246)) * 100"
   ]
  },
  {
   "cell_type": "code",
   "execution_count": 53,
   "metadata": {},
   "outputs": [
    {
     "data": {
      "text/plain": [
       "26.892596968575454"
      ]
     },
     "execution_count": 53,
     "metadata": {},
     "output_type": "execute_result"
    }
   ],
   "source": [
    "# Volatilidade da BOVA\n",
    "math.sqrt(taxas_ret.BOVA.var()) * 100 * math.sqrt(246)"
   ]
  },
  {
   "cell_type": "code",
   "execution_count": 51,
   "metadata": {},
   "outputs": [
    {
     "data": {
      "text/plain": [
       "26.892596968575454"
      ]
     },
     "execution_count": 51,
     "metadata": {},
     "output_type": "execute_result"
    }
   ],
   "source": [
    "# Mesma conta\n",
    "math.sqrt(np.dot(pesos2, np.dot(pesos2, taxas_ret.cov() * 246))) * 100"
   ]
  },
  {
   "cell_type": "markdown",
   "metadata": {},
   "source": [
    "## Risco Sistemático e Não Sistemático\n",
    "\n",
    "<br>\n",
    "\n",
    "`Sistemático: mudança diária no preço das ações, devido a eventos como recessão, comportamento do cliente`\n",
    "<br>\n",
    "\n",
    "`Não Sistemático: Eventos Específicos na empresa`\n"
   ]
  },
  {
   "cell_type": "code",
   "execution_count": 56,
   "metadata": {},
   "outputs": [
    {
     "data": {
      "text/plain": [
       "GOL       0.129282\n",
       "CVC       0.059994\n",
       "WEGE      0.024470\n",
       "MAGALU    0.085316\n",
       "TOTS      0.029152\n",
       "BOVA      0.000000\n",
       "dtype: float64"
      ]
     },
     "execution_count": 56,
     "metadata": {},
     "output_type": "execute_result"
    }
   ],
   "source": [
    "# Só dá para calcular o sistemático\n",
    "\n",
    "# variancia anual\n",
    "variancia_pesos1  = (taxas_ret.var() * 246)  * pesos1\n",
    "variancia_pesos1"
   ]
  },
  {
   "cell_type": "code",
   "execution_count": 64,
   "metadata": {},
   "outputs": [
    {
     "data": {
      "text/plain": [
       "-0.0696488681228894"
      ]
     },
     "execution_count": 64,
     "metadata": {},
     "output_type": "execute_result"
    }
   ],
   "source": [
    "sub1 = variancia_pesos1[0]\n",
    "for i in range(1,5):\n",
    "    sub1 -= variancia_pesos1[i]\n",
    "    \n",
    "sub1"
   ]
  },
  {
   "cell_type": "code",
   "execution_count": null,
   "metadata": {},
   "outputs": [],
   "source": [
    "var"
   ]
  }
 ],
 "metadata": {
  "kernelspec": {
   "display_name": "Python 3",
   "language": "python",
   "name": "python3"
  },
  "language_info": {
   "codemirror_mode": {
    "name": "ipython",
    "version": 3
   },
   "file_extension": ".py",
   "mimetype": "text/x-python",
   "name": "python",
   "nbconvert_exporter": "python",
   "pygments_lexer": "ipython3",
   "version": "3.8.5"
  }
 },
 "nbformat": 4,
 "nbformat_minor": 4
}
