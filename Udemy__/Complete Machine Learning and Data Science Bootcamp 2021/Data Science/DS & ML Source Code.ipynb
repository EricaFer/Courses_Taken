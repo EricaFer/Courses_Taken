{
 "cells": [
  {
   "cell_type": "markdown",
   "metadata": {},
   "source": [
    "# Importing"
   ]
  },
  {
   "cell_type": "code",
   "execution_count": null,
   "metadata": {},
   "outputs": [],
   "source": [
    "import plotly.express     as px\n",
    "from pandas_datareader import data"
   ]
  },
  {
   "cell_type": "code",
   "execution_count": null,
   "metadata": {},
   "outputs": [],
   "source": [
    "acoes_df = acoes_df.rename(columns = {'GOLL4.SA': 'GOL',\n",
    "                                       'CVCB3.SA': 'CVC',\n",
    "                                       'WEGE3.SA': 'WEGE',\n",
    "                                       'MGLU3.SA': 'MAGALU',\n",
    "                                       'TOTS3.SA': 'TOTS',\n",
    "                                       'BOVA11.SA': 'BOVA'})\n",
    "acoes_df.head()"
   ]
  },
  {
   "cell_type": "code",
   "execution_count": null,
   "metadata": {},
   "outputs": [],
   "source": [
    "acoes = ['GOLL4.SA', 'CVCB3.SA', 'WEGE3.SA', 'MGLU3.SA', 'TOTS3.SA', 'BOVA11.SA' ]\n",
    "\n",
    "acoes_df = pd.DataFrame()\n",
    "\n",
    "for acao in acoes:\n",
    "    acoes_df[acao] = data.DataReader(acao, \n",
    "                                     data_source= 'yahoo', \n",
    "                                     start = '2015-01-01')['Close']#aqui pega só a close"
   ]
  },
  {
   "cell_type": "code",
   "execution_count": null,
   "metadata": {},
   "outputs": [],
   "source": [
    "'''Abrindo um Arquivo txt para cvs'''\n",
    "\n",
    "# Só precisa rodar uma vez\n",
    "\n",
    "file = pd.read_csv('RESUMO_ANONIMIZADO_ID_PLACA=28018_EMBRANCO.txt', sep=';', engine = 'python')\n",
    "file.to_csv('RESUMO_ANONIMIZADO.csv', index = False)"
   ]
  },
  {
   "cell_type": "code",
   "execution_count": null,
   "metadata": {},
   "outputs": [],
   "source": [
    "gol_df = data.DataReader(name = 'GOLL4.SA', \n",
    "                         data_source = 'yahoo', \n",
    "                         start = '2015-01-01')"
   ]
  },
  {
   "cell_type": "markdown",
   "metadata": {},
   "source": [
    "# Cleaning"
   ]
  },
  {
   "cell_type": "code",
   "execution_count": 2,
   "metadata": {},
   "outputs": [
    {
     "ename": "NameError",
     "evalue": "name 'df' is not defined",
     "output_type": "error",
     "traceback": [
      "\u001b[1;31m---------------------------------------------------------------------------\u001b[0m",
      "\u001b[1;31mNameError\u001b[0m                                 Traceback (most recent call last)",
      "\u001b[1;32m<ipython-input-2-bfd12c06b905>\u001b[0m in \u001b[0;36m<module>\u001b[1;34m\u001b[0m\n\u001b[1;32m----> 1\u001b[1;33m \u001b[0mdf\u001b[0m\u001b[1;33m.\u001b[0m\u001b[0mdescribe\u001b[0m\u001b[1;33m(\u001b[0m\u001b[1;33m)\u001b[0m \u001b[1;31m#std, max, min, 75% ..\u001b[0m\u001b[1;33m\u001b[0m\u001b[1;33m\u001b[0m\u001b[0m\n\u001b[0m\u001b[0;32m      2\u001b[0m \u001b[0mdf\u001b[0m\u001b[1;33m.\u001b[0m\u001b[0minfo\u001b[0m\u001b[1;33m(\u001b[0m\u001b[1;33m)\u001b[0m \u001b[1;31m# dtypes\u001b[0m\u001b[1;33m\u001b[0m\u001b[1;33m\u001b[0m\u001b[0m\n",
      "\u001b[1;31mNameError\u001b[0m: name 'df' is not defined"
     ]
    }
   ],
   "source": [
    "df.describe() #std, max, min, 75% ..\n",
    "df.info() # dtypes"
   ]
  },
  {
   "cell_type": "code",
   "execution_count": null,
   "metadata": {},
   "outputs": [],
   "source": [
    "acoes_df.dropna(inplace = True)"
   ]
  },
  {
   "cell_type": "code",
   "execution_count": null,
   "metadata": {},
   "outputs": [],
   "source": []
  },
  {
   "cell_type": "markdown",
   "metadata": {},
   "source": [
    "# Visualization"
   ]
  },
  {
   "cell_type": "code",
   "execution_count": null,
   "metadata": {},
   "outputs": [],
   "source": [
    "'''HEATMAP COMPLETO'''\n",
    "\n",
    "\n",
    "# Configurações do gráfico\n",
    "sns.set_theme(style = 'whitegrid',\n",
    "              font_scale = 1.5)\n",
    "\n",
    "fig, ax = plt.subplots(figsize = (17,10))\n",
    "\n",
    "ax = sns.heatmap(linhas_manha_perc.set_index('Rótulos de Linha.1'),\n",
    "                 linewidths = 0.5,\n",
    "                 cmap = 'flare')\n",
    "\n",
    "plt.suptitle('Pico da Manhã - Linhas', \n",
    "              size = 40, \n",
    "              x    = 0.35)\n",
    "\n",
    "# Definindo o tamanho dos labels\n",
    "ax.xaxis.label.set_size(35)\n",
    "ax.yaxis.label.set_size(35)\n",
    "\n",
    "plt.xlabel(\"Destino\")\n",
    "plt.ylabel('Origem')\n",
    "\n",
    "\n",
    "plt.show()"
   ]
  },
  {
   "cell_type": "code",
   "execution_count": null,
   "metadata": {},
   "outputs": [],
   "source": [
    "figura = px.line()\n",
    "\n",
    "for i in acoes_df.columns[1:]:\n",
    "    figura.add_scatter(x = acoes_df.Date, y = acoes_df[i], name = i)\n",
    "    \n",
    "figura.update_layout(title = 'Histórico do preço das ações', title_x=0.5)"
   ]
  },
  {
   "cell_type": "code",
   "execution_count": null,
   "metadata": {},
   "outputs": [],
   "source": [
    "# Calculates distance in km from coordenates\n",
    "train['distance_km'] = haversine_distance(train)"
   ]
  },
  {
   "cell_type": "code",
   "execution_count": null,
   "metadata": {},
   "outputs": [],
   "source": [
    "# Create hour feature\n",
    "train['pickup_datetime'] = pd.to_datetime(train.pickup_datetime) #to date\n",
    "train['hour'] = train.pickup_datetime.dt.hour#to hour"
   ]
  }
 ],
 "metadata": {
  "kernelspec": {
   "display_name": "Python 3",
   "language": "python",
   "name": "python3"
  },
  "language_info": {
   "codemirror_mode": {
    "name": "ipython",
    "version": 3
   },
   "file_extension": ".py",
   "mimetype": "text/x-python",
   "name": "python",
   "nbconvert_exporter": "python",
   "pygments_lexer": "ipython3",
   "version": "3.8.5"
  }
 },
 "nbformat": 4,
 "nbformat_minor": 4
}
