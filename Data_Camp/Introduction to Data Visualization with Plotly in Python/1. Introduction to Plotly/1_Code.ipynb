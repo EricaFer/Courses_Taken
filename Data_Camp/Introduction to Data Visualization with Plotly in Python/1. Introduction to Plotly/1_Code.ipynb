{
 "cells": [
  {
   "cell_type": "code",
   "execution_count": null,
   "id": "aa8a7372",
   "metadata": {},
   "outputs": [],
   "source": [
    "# Examine the printed dictionary\n",
    "\n",
    "# Update the type\n",
    "monthly_sales['data'][0]['type'] = 'bar'\n",
    "\n",
    "# Update the title text\n",
    "monthly_sales['layout']['title']['text'] = 'Sales for Jan-Mar 2020'\n",
    "\n",
    "# Create a figure\n",
    "fig = go.Figure(monthly_sales)\n",
    "\n",
    "# Print it out!\n",
    "fig.show()"
   ]
  },
  {
   "cell_type": "code",
   "execution_count": null,
   "id": "9c2fa0bf",
   "metadata": {},
   "outputs": [],
   "source": []
  }
 ],
 "metadata": {
  "kernelspec": {
   "display_name": "Python 3",
   "language": "python",
   "name": "python3"
  },
  "language_info": {
   "codemirror_mode": {
    "name": "ipython",
    "version": 3
   },
   "file_extension": ".py",
   "mimetype": "text/x-python",
   "name": "python",
   "nbconvert_exporter": "python",
   "pygments_lexer": "ipython3",
   "version": "3.9.5"
  }
 },
 "nbformat": 4,
 "nbformat_minor": 5
}
