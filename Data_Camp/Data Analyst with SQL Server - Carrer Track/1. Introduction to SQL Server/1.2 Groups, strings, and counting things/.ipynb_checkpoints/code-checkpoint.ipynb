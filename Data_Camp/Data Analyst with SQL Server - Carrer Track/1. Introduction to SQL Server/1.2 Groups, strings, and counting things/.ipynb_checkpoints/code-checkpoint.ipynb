{
 "cells": [
  {
   "cell_type": "code",
   "execution_count": null,
   "metadata": {},
   "outputs": [],
   "source": [
    "\n",
    "-- Sum the demand_loss_mw column\n",
    "SELECT \n",
    "  Sum(demand_loss_mw) AS MRO_demand_loss\n",
    "FROM \n",
    "  grid \n",
    "WHERE\n",
    "  -- demand_loss_mw should not contain NULL values\n",
    "  demand_loss_mw IS NOT NULL\n",
    "  -- and nerc_region should be 'MRO';\n",
    "  AND nerc_region = 'MRO';"
   ]
  },
  {
   "cell_type": "code",
   "execution_count": null,
   "metadata": {},
   "outputs": [],
   "source": [
    "-- Obtain a count of 'grid_id'\n",
    "SELECT \n",
    "  COUNT (grid_id) AS RFC_count \n",
    "FROM \n",
    "  grid\n",
    "-- Restrict to rows where the nerc_region is 'RFC'\n",
    "WHERE\n",
    "  nerc_region = 'RFC';"
   ]
  },
  {
   "cell_type": "code",
   "execution_count": null,
   "metadata": {},
   "outputs": [],
   "source": [
    "-- Find the minimum number of affected customers\n",
    "SELECT \n",
    "  MIN(affected_customers) AS min_affected_customers \n",
    "FROM \n",
    "  grid\n",
    "-- Only retrieve rows where demand_loss_mw has a value\n",
    "WHERE\n",
    "  demand_loss_mw IS NOT NULL;"
   ]
  },
  {
   "cell_type": "code",
   "execution_count": null,
   "metadata": {},
   "outputs": [],
   "source": [
    "-- Calculate the length of the description column\n",
    "SELECT \n",
    "  LEN(description) AS description_length,\n",
    "  description \n",
    "FROM \n",
    "  grid;"
   ]
  },
  {
   "cell_type": "code",
   "execution_count": null,
   "metadata": {},
   "outputs": [],
   "source": [
    "-- Select the first 25 characters from the left of the description column\n",
    "SELECT \n",
    "  LEFT(description, 25) AS first_25_left \n",
    "FROM \n",
    "  grid;"
   ]
  },
  {
   "cell_type": "code",
   "execution_count": null,
   "metadata": {},
   "outputs": [],
   "source": [
    "-- Complete the substring function to begin extracting from the correct character in the description column\n",
    "SELECT TOP (10)\n",
    "  description, \n",
    "  CHARINDEX('Weather', description) AS start_of_string, \n",
    "  LEN ('Weather') AS length_of_string, \n",
    "  SUBSTRING(\n",
    "    description, \n",
    "    15, \n",
    "    LEN(description)\n",
    "  ) AS additional_description \n",
    "FROM \n",
    "  grid\n",
    "WHERE description LIKE '%Weather%';"
   ]
  },
  {
   "cell_type": "code",
   "execution_count": null,
   "metadata": {},
   "outputs": [],
   "source": [
    "-- Complete the substring function to begin extracting from the correct character in the description column\n",
    "SELECT TOP (10)\n",
    "  description, \n",
    "  CHARINDEX('Weather', description) AS start_of_string, \n",
    "  LEN ('Weather') AS length_of_string, \n",
    "  SUBSTRING(\n",
    "    description, \n",
    "    15, \n",
    "    LEN(description)\n",
    "  ) AS additional_description \n",
    "FROM \n",
    "  grid\n",
    "WHERE description LIKE '%Weather%';"
   ]
  },
  {
   "cell_type": "code",
   "execution_count": null,
   "metadata": {},
   "outputs": [],
   "source": [
    "SELECT \n",
    "  nerc_region, \n",
    "  SUM (demand_loss_mw) AS demand_loss \n",
    "FROM \n",
    "  grid \n",
    "  -- Remove the WHERE clause\n",
    "GROUP BY \n",
    "  nerc_region \n",
    "  -- Enter a new HAVING clause so that the sum of demand_loss_mw is greater than 10000\n",
    "HAVING \n",
    "  SUM(demand_loss_mw) > 10000 \n",
    "ORDER BY \n",
    "  demand_loss DESC;"
   ]
  },
  {
   "cell_type": "code",
   "execution_count": null,
   "metadata": {},
   "outputs": [],
   "source": [
    "SELECT \n",
    "  country, \n",
    "  COUNT(country) AS country_count, \n",
    "  AVG (place) AS avg_place, \n",
    "  AVG (points) AS avg_points, \n",
    "  MIN (points) AS min_points, \n",
    "  MAX (points) AS max_points \n",
    "FROM \n",
    "  eurovision \n",
    "GROUP BY \n",
    "  country \n",
    "  -- The country column should only contain those with a count greater than 5\n",
    "HAVING \n",
    "  COUNT(country) > 5 \n",
    "  -- Arrange columns in the correct order\n",
    "ORDER BY \n",
    "  avg_place, \n",
    "  avg_points DESC;"
   ]
  },
  {
   "cell_type": "code",
   "execution_count": null,
   "metadata": {},
   "outputs": [],
   "source": []
  }
 ],
 "metadata": {
  "kernelspec": {
   "display_name": "Python 3",
   "language": "python",
   "name": "python3"
  },
  "language_info": {
   "codemirror_mode": {
    "name": "ipython",
    "version": 3
   },
   "file_extension": ".py",
   "mimetype": "text/x-python",
   "name": "python",
   "nbconvert_exporter": "python",
   "pygments_lexer": "ipython3",
   "version": "3.8.5"
  }
 },
 "nbformat": 4,
 "nbformat_minor": 4
}
