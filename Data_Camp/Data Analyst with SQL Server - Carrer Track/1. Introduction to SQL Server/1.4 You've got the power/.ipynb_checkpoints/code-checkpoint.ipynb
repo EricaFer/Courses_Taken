{
 "cells": [
  {
   "cell_type": "code",
   "execution_count": null,
   "metadata": {},
   "outputs": [],
   "source": [
    "-- Create the table\n",
    "CREATE TABLE results (\n",
    "\t-- Create track column\n",
    "\ttrack VARCHAR(200),\n",
    "    -- Create artist column\n",
    "\tartist VARCHAR(120),\n",
    "    -- Create album column\n",
    "\talbum VARCHAR(160),\n",
    "\t-- Create track_length_mins\n",
    "\ttrack_length_mins INT,\n",
    "\t);\n",
    "\n",
    "-- Select all columns from the table\n",
    "SELECT \n",
    "  track,\n",
    "  artist, \n",
    "  album, \n",
    "  track_length_mins \n",
    "FROM \n",
    "  results;"
   ]
  },
  {
   "cell_type": "code",
   "execution_count": null,
   "metadata": {},
   "outputs": [],
   "source": [
    "-- Create the table\n",
    "CREATE TABLE tracks(\n",
    "  -- Create track column\n",
    "  track VARCHAR(200), \n",
    "  -- Create album column\n",
    "  album VARCHAR(160), \n",
    "  -- Create track_length_mins column\n",
    "  track_length_mins INT\n",
    ");\n",
    "-- Complete the statement to enter the data to the table         \n",
    "INSERT INTO tracks\n",
    "-- Specify the destination columns\n",
    "(track, album, track_length_mins)\n",
    "-- Insert the appropriate values for track, album and track length\n",
    "VALUES\n",
    "  ('Basket Case', 'Dookie', 3);\n",
    "-- Select all columns from the new table\n",
    "SELECT \n",
    "  *\n",
    "FROM \n",
    "  tracks;"
   ]
  },
  {
   "cell_type": "code",
   "execution_count": null,
   "metadata": {},
   "outputs": [],
   "source": [
    "-- Select the album\n",
    "SELECT \n",
    "  title \n",
    "FROM \n",
    "  album \n",
    "WHERE \n",
    "  album_id = 213;\n",
    "-- UPDATE the title of the album\n",
    "UPDATE \n",
    "  album \n",
    "SET \n",
    "  title = 'Pure Cult: The Best Of The Cult' \n",
    "WHERE \n",
    "  album_id = 213;\n",
    "-- Run the query again\n",
    "SELECT \n",
    "  title \n",
    "FROM \n",
    "  album\n",
    "WHERE \n",
    "  album_id = 213;"
   ]
  },
  {
   "cell_type": "code",
   "execution_count": null,
   "metadata": {},
   "outputs": [],
   "source": [
    "-- Run the query\n",
    "SELECT \n",
    "  * \n",
    "FROM \n",
    "  album \n",
    "  -- DELETE the record\n",
    "DELETE FROM \n",
    "  ALBUM \n",
    "WHERE \n",
    "  album_id = 1 \n",
    "  -- Run the query again\n",
    "SELECT \n",
    "  * \n",
    "FROM \n",
    "  album;"
   ]
  },
  {
   "cell_type": "code",
   "execution_count": null,
   "metadata": {},
   "outputs": [],
   "source": [
    "-- Declare the variable @region\n",
    "DECLARE @region VARCHAR(10)\n",
    "\n",
    "-- Update the variable value\n",
    "SET @region = 'RFC'\n",
    "\n",
    "SELECT description,\n",
    "       nerc_region,\n",
    "       demand_loss_mw,\n",
    "       affected_customers\n",
    "FROM grid\n",
    "WHERE nerc_region = @region;"
   ]
  },
  {
   "cell_type": "code",
   "execution_count": null,
   "metadata": {},
   "outputs": [],
   "source": [
    "-- Declare your variables\n",
    "DECLARE @start DATE\n",
    "DECLARE @stop DATE\n",
    "DECLARE @affected INT;\n",
    "-- SET the relevant values for each variable\n",
    "SET @start = '2014-01-24'\n",
    "SET @stop  = '2014-07-02'\n",
    "SET @affected =  5000 ;\n",
    "\n",
    "SELECT \n",
    "  description,\n",
    "  nerc_region,\n",
    "  demand_loss_mw,\n",
    "  affected_customers\n",
    "FROM \n",
    "  grid\n",
    "-- Specify the date range of the event_date and the value for @affected\n",
    "WHERE event_date BETWEEN @start AND @stop\n",
    "AND affected_customers >= @affected;\n"
   ]
  },
  {
   "cell_type": "code",
   "execution_count": null,
   "metadata": {},
   "outputs": [],
   "source": [
    "SELECT  album.title AS album_title,\n",
    "  artist.name as artist,\n",
    "  MAX(track.milliseconds / (1000 * 60) % 60 ) AS max_track_length_mins\n",
    "-- Name the temp table #maxtracks\n",
    "INTO #maxtracks\n",
    "FROM album\n",
    "-- Join album to artist using artist_id\n",
    "INNER JOIN artist ON album.artist_id = artist.artist_id\n",
    "-- Join track to album using album_id\n",
    "INNER JOIN track ON track.album_id = album.album_id\n",
    "GROUP BY artist.artist_id, album.title, artist.name,album.album_id\n",
    "-- Run the final SELECT query to retrieve the results from the temporary table\n",
    "SELECT album_title, artist, max_track_length_mins\n",
    "FROM  #maxtracks\n",
    "ORDER BY max_track_length_mins DESC, artist;"
   ]
  }
 ],
 "metadata": {
  "kernelspec": {
   "display_name": "Python 3",
   "language": "python",
   "name": "python3"
  },
  "language_info": {
   "codemirror_mode": {
    "name": "ipython",
    "version": 3
   },
   "file_extension": ".py",
   "mimetype": "text/x-python",
   "name": "python",
   "nbconvert_exporter": "python",
   "pygments_lexer": "ipython3",
   "version": "3.8.5"
  }
 },
 "nbformat": 4,
 "nbformat_minor": 4
}
