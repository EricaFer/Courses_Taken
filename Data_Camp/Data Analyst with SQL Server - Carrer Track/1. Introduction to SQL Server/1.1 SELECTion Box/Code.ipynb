{
 "cells": [
  {
   "cell_type": "code",
   "execution_count": null,
   "metadata": {},
   "outputs": [],
   "source": [
    "# select unique countries\n",
    "-- Return unique countries and use an alias\n",
    "SELECT \n",
    "  DISTINCT country as unique_country \n",
    "FROM \n",
    "  eurovision;"
   ]
  },
  {
   "cell_type": "code",
   "execution_count": null,
   "metadata": {},
   "outputs": [],
   "source": [
    "-- Return all columns, restricting the percent of rows returned\n",
    "SELECT \n",
    "  TOP (50) PERCENT * \n",
    "FROM \n",
    "  eurovision;"
   ]
  },
  {
   "cell_type": "code",
   "execution_count": null,
   "metadata": {},
   "outputs": [],
   "source": [
    "-- Select the top 20 rows from description, nerc_region and event_date\n",
    "SELECT \n",
    "  TOP (20) description,\n",
    "  nerc_region,\n",
    "  event_date\n",
    "FROM \n",
    "  grid \n",
    "  -- Order by nerc_region, affected_customers & event_date\n",
    "  -- Event_date should be in descending order\n",
    "ORDER BY\n",
    "  nerc_region,\n",
    "  affected_customers,\n",
    "  event_date DESC;"
   ]
  },
  {
   "cell_type": "code",
   "execution_count": null,
   "metadata": {},
   "outputs": [],
   "source": [
    "-- Select description and event_year\n",
    "SELECT \n",
    "  description, \n",
    "  event_year \n",
    "FROM \n",
    "  grid \n",
    "  -- Filter the results\n",
    "WHERE \n",
    "  description = 'Vandalism';"
   ]
  },
  {
   "cell_type": "code",
   "execution_count": null,
   "metadata": {},
   "outputs": [],
   "source": [
    "-- Select description, affected_customers and event date\n",
    "SELECT \n",
    "  description, \n",
    "  affected_customers,\n",
    "  event_date\n",
    "FROM \n",
    "  grid \n",
    "  -- The affected_customers column should be >= 50000 and <=150000   \n",
    "WHERE \n",
    "  affected_customers BETWEEN 50000\n",
    "  AND 150000 \n",
    "   -- Define the order   \n",
    "ORDER BY \n",
    "  event_date DESC;\n"
   ]
  },
  {
   "cell_type": "code",
   "execution_count": null,
   "metadata": {},
   "outputs": [],
   "source": [
    "-- Select description, affected_customers and event date\n",
    "SELECT \n",
    "  description, \n",
    "  affected_customers,\n",
    "  event_date\n",
    "FROM \n",
    "  grid \n",
    "  -- The affected_customers column should be >= 50000 and <=150000   \n",
    "WHERE \n",
    "  affected_customers BETWEEN 50000\n",
    "  AND 150000 \n",
    "   -- Define the order   \n",
    "ORDER BY \n",
    "  event_date DESC;\n"
   ]
  },
  {
   "cell_type": "code",
   "execution_count": null,
   "metadata": {},
   "outputs": [],
   "source": [
    "-- Retrieve the song,artist and release_year columns\n",
    "SELECT \n",
    "  song, \n",
    "  artist, \n",
    "  release_year \n",
    "FROM \n",
    "  songlist \n",
    "  -- Ensure there are no missing or unknown values in the release_year column\n",
    "WHERE \n",
    "  release_year IS NOT NULL \n",
    "  -- Arrange the results by the artist and release_year columns\n",
    "ORDER by  \n",
    "  artist,\n",
    "  release_year;"
   ]
  },
  {
   "cell_type": "code",
   "execution_count": null,
   "metadata": {},
   "outputs": [],
   "source": [
    "-- Retrieve the song,artist and release_year columns\n",
    "SELECT \n",
    "  song, \n",
    "  artist, \n",
    "  release_year \n",
    "FROM \n",
    "  songlist \n",
    "  -- Ensure there are no missing or unknown values in the release_year column\n",
    "WHERE \n",
    "  release_year IS NOT NULL \n",
    "  -- Arrange the results by the artist and release_year columns\n",
    "ORDER by  \n",
    "  artist,\n",
    "  release_year;"
   ]
  },
  {
   "cell_type": "code",
   "execution_count": null,
   "metadata": {},
   "outputs": [],
   "source": [
    "SELECT \n",
    "  artist, \n",
    "  release_year, \n",
    "  song \n",
    "FROM \n",
    "  songlist \n",
    "  -- Choose the correct artist and specify the release year\n",
    "WHERE \n",
    "  (\n",
    "    artist LIKE 'B%' \n",
    "    AND release_year = 1986\n",
    "  ) \n",
    "  -- Or return all songs released after 1990\n",
    "  OR release_year > 1990 \n",
    "  -- Order the results\n",
    "ORDER BY \n",
    "  release_year, \n",
    "  artist, \n",
    "  song;"
   ]
  },
  {
   "cell_type": "code",
   "execution_count": null,
   "metadata": {},
   "outputs": [],
   "source": []
  }
 ],
 "metadata": {
  "kernelspec": {
   "display_name": "Python 3",
   "language": "python",
   "name": "python3"
  },
  "language_info": {
   "codemirror_mode": {
    "name": "ipython",
    "version": 3
   },
   "file_extension": ".py",
   "mimetype": "text/x-python",
   "name": "python",
   "nbconvert_exporter": "python",
   "pygments_lexer": "ipython3",
   "version": "3.8.5"
  }
 },
 "nbformat": 4,
 "nbformat_minor": 4
}
