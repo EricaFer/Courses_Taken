{
 "cells": [
  {
   "cell_type": "code",
   "execution_count": null,
   "metadata": {},
   "outputs": [],
   "source": [
    "print(nsfg.outcome.value_counts().sort_index())"
   ]
  },
  {
   "cell_type": "code",
   "execution_count": null,
   "metadata": {},
   "outputs": [],
   "source": [
    "# Replace the value 8 with NaN\n",
    "nsfg['nbrnaliv'].replace([8], np.nan, inplace = True)\n",
    "\n",
    "# Print the values and their frequencies\n",
    "print(nsfg['nbrnaliv'].value_counts())"
   ]
  },
  {
   "cell_type": "code",
   "execution_count": null,
   "metadata": {},
   "outputs": [],
   "source": [
    "# Select the columns and divide by 100\n",
    "agecon = nsfg['agecon'] / 100\n",
    "agepreg = nsfg['agepreg'] / 100\n",
    "\n",
    "# Compute the difference\n",
    "preg_length = agepreg - agecon\n",
    "\n",
    "# Compute summary statistics\n",
    "print(preg_length.describe())"
   ]
  },
  {
   "cell_type": "code",
   "execution_count": null,
   "metadata": {},
   "outputs": [],
   "source": [
    "# Filter full-term babies\n",
    "full_term = nsfg['prglngth'] >= 37\n",
    "\n",
    "# Filter single births\n",
    "single = nsfg.nbrnaliv == 1\n",
    "\n",
    "# Compute birth weight for single full-term babies\n",
    "single_full_term_weight = birth_weight[single & full_term]\n",
    "print('Single full-term mean:', single_full_term_weight.mean())\n",
    "\n",
    "# Compute birth weight for multiple full-term babies\n",
    "mult_full_term_weight = birth_weight[~single & full_term]\n",
    "print('Multiple full-term mean:', mult_full_term_weight.mean())\n"
   ]
  },
  {
   "cell_type": "code",
   "execution_count": null,
   "metadata": {},
   "outputs": [],
   "source": []
  }
 ],
 "metadata": {
  "kernelspec": {
   "display_name": "Python 3",
   "language": "python",
   "name": "python3"
  },
  "language_info": {
   "codemirror_mode": {
    "name": "ipython",
    "version": 3
   },
   "file_extension": ".py",
   "mimetype": "text/x-python",
   "name": "python",
   "nbconvert_exporter": "python",
   "pygments_lexer": "ipython3",
   "version": "3.9.5"
  }
 },
 "nbformat": 4,
 "nbformat_minor": 4
}
