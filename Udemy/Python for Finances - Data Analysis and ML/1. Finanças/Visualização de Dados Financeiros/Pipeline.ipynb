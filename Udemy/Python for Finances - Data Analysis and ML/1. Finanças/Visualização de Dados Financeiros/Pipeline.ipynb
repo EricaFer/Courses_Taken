{
 "cells": [
  {
   "cell_type": "code",
   "execution_count": 1,
   "metadata": {},
   "outputs": [],
   "source": [
    "# Importando ferramentas básicas\n",
    "import pandas               as pd\n",
    "import matplotlib.pyplot    as plt\n",
    "import seaborn              as sns\n",
    "import numpy                as np\n",
    "import plotly.express       as px\n",
    "import plotly.graph_objects as go\n",
    "\n",
    "from pandas_datareader import data\n",
    "from plotly.subplots   import make_subplots"
   ]
  },
  {
   "cell_type": "code",
   "execution_count": null,
   "metadata": {},
   "outputs": [],
   "source": [
    "def Pipeline(df_names, \n",
    "             stock_names, \n",
    "             source = 'yahoo', \n",
    "             start = '2015-01-01', \n",
    "             col = 'Adj Close',\n",
    "             carteira,\n",
    "             files):\n",
    "    \n",
    "    '''\n",
    "  \n",
    "    '''\n",
    "    \n",
    "    i = 0\n",
    "    \n",
    "    df_list = {pd.DataFrame() for df in df_names}\n",
    "\n",
    "    for df in df_names:\n",
    "        if carteira is True:\n",
    "            for acao in stock_names:\n",
    "                df_names[acao] = data.DataReader(acao,\n",
    "                                                 data_source = source,\n",
    "                                                 start = start)[col]\n",
    "        else:\n",
    "            for acao in stock_names:\n",
    "                df_names = data.DataReader(acao,\n",
    "                                           data_source = source,\n",
    "                                           start = start)[col]\n",
    "        df.to_csv(files[i])\n",
    "        i += 1\n",
    "    \n",
    "        df_csv.append(pd.read_csv(files[i]))\n"
   ]
  },
  {
   "cell_type": "code",
   "execution_count": null,
   "metadata": {},
   "outputs": [],
   "source": [
    "def Pipeline(df, \n",
    "             stock_names, \n",
    "             source = 'yahoo', \n",
    "             start = '2015-01-01', \n",
    "             file):\n",
    "    \n",
    "    for acao in stock_names:\n",
    "        df[acao] = data.DataReader(acao,\n",
    "                                   data_source = source,\n",
    "                                   start = start)[col]\n",
    "    df.to_csv(files)"
   ]
  }
 ],
 "metadata": {
  "kernelspec": {
   "display_name": "Python 3",
   "language": "python",
   "name": "python3"
  },
  "language_info": {
   "codemirror_mode": {
    "name": "ipython",
    "version": 3
   },
   "file_extension": ".py",
   "mimetype": "text/x-python",
   "name": "python",
   "nbconvert_exporter": "python",
   "pygments_lexer": "ipython3",
   "version": "3.8.5"
  }
 },
 "nbformat": 4,
 "nbformat_minor": 4
}
