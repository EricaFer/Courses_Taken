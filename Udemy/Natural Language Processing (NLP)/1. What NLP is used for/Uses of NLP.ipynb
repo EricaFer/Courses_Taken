{
 "cells": [
  {
   "cell_type": "markdown",
   "metadata": {},
   "source": [
    "# Uses of NLP 💬\n",
    "\n",
    "<br>\n",
    "\n",
    "* Automatic Translation \n",
    "* Speech to Text\n",
    "* Text to Speech\n",
    "* Generating Text\n",
    "* Caption Generating\n",
    "* Question-Answering"
   ]
  },
  {
   "cell_type": "markdown",
   "metadata": {},
   "source": [
    "## Topics of this Course\n",
    "\n",
    "<br>\n",
    "\n",
    "1. Cipher Decryption\n",
    "2. Spam Detection\n",
    "3. Sentiment Analysis\n",
    "4. Natural Language Toolkit\n",
    "5. Latent Semantic Analysis\n",
    "6. Article Spinning"
   ]
  },
  {
   "cell_type": "markdown",
   "metadata": {},
   "source": [
    "#### How to open file for Windows Users\n",
    "\n",
    "<br>\n",
    "\n",
    "`open(filename, encoding = 'utf-8')` \n",
    "\n",
    "\n",
    "<br>\n",
    "\n",
    "Ps: you have to decompress .zip | .gz | .tar.gz files"
   ]
  }
 ],
 "metadata": {
  "kernelspec": {
   "display_name": "Python 3",
   "language": "python",
   "name": "python3"
  },
  "language_info": {
   "codemirror_mode": {
    "name": "ipython",
    "version": 3
   },
   "file_extension": ".py",
   "mimetype": "text/x-python",
   "name": "python",
   "nbconvert_exporter": "python",
   "pygments_lexer": "ipython3",
   "version": "3.8.5"
  }
 },
 "nbformat": 4,
 "nbformat_minor": 4
}
